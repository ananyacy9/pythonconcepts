{
 "cells": [
  {
   "cell_type": "code",
   "execution_count": 1,
   "metadata": {},
   "outputs": [],
   "source": [
    "# Python If-Else\n",
    "\n",
    "# Task \n",
    "# Given an integer, n, perform the following conditional actions:\n",
    "# If n is odd, print Weird\n",
    "# If n is even and in the inclusive range of 2 to 5, print Not Weird\n",
    "# If n is even and in the inclusive range of 6 to 20, print Weird\n",
    "# If n is even and greater than 20, print Not Weird\n",
    "\n",
    "# Input Format\n",
    "# A single line containing a positive integer, n.\n",
    "\n",
    "# Constraints\n",
    "# 1 <= n <= 100\n",
    "\n",
    "# Output Format\n",
    "# Print Weird if the number is weird; otherwise, print Not Weird."
   ]
  },
  {
   "cell_type": "code",
   "execution_count": null,
   "metadata": {},
   "outputs": [
    {
     "name": "stdout",
     "output_type": "stream",
     "text": [
      "Enter Number 6\n",
      "Weird\n",
      "Enter Number 22\n",
      "Not Weird\n"
     ]
    }
   ],
   "source": [
    "import sys\n",
    "while(True): \n",
    "    Nmbr= int(input(\"Enter Number \"))\n",
    "    if Nmbr % 2 != 0 :\n",
    "        print(\"Weird\")\n",
    "    else:\n",
    "        if Nmbr>=2 and Nmbr <= 5:\n",
    "            print(\"Not Weird\")\n",
    "        elif Nmbr>=6 and Nmbr<=20:\n",
    "            print(\"Weird\")\n",
    "        elif Nmbr>20:\n",
    "            print(\"Not Weird\")"
   ]
  },
  {
   "cell_type": "code",
   "execution_count": null,
   "metadata": {},
   "outputs": [],
   "source": []
  }
 ],
 "metadata": {
  "kernelspec": {
   "display_name": "Python 3",
   "language": "python",
   "name": "python3"
  },
  "language_info": {
   "codemirror_mode": {
    "name": "ipython",
    "version": 3
   },
   "file_extension": ".py",
   "mimetype": "text/x-python",
   "name": "python",
   "nbconvert_exporter": "python",
   "pygments_lexer": "ipython3",
   "version": "3.7.4"
  }
 },
 "nbformat": 4,
 "nbformat_minor": 2
}
