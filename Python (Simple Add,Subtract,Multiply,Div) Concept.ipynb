{
 "cells": [
  {
   "cell_type": "markdown",
   "metadata": {},
   "source": [
    "Task\n",
    "Read two integers from STDIN and print three lines where:\n",
    "\n",
    "The first line contains the sum of the two numbers.\n",
    "The second line contains the difference of the two numbers (first - second).\n",
    "The third line contains the product of the two numbers.\n",
    "Input Format\n",
    "\n",
    "The first line contains the first integer, . The second line contains the second integer, .\n",
    "\n",
    "Constraints\n",
    "\n",
    "\n",
    "\n",
    "Output Format\n",
    "\n",
    "Print the three lines as explained above.\n",
    "\n",
    "Sample Input 0\n",
    "\n",
    "3\n",
    "2\n",
    "Sample Output 0\n",
    "\n",
    "5\n",
    "1\n",
    "6"
   ]
  },
  {
   "cell_type": "code",
   "execution_count": 3,
   "metadata": {},
   "outputs": [
    {
     "name": "stdout",
     "output_type": "stream",
     "text": [
      "Enter a 3\n",
      "Enter b 2\n",
      "5\n",
      "1\n",
      "6\n"
     ]
    }
   ],
   "source": [
    "a = int(input(\"Enter a \"))\n",
    "b = int(input(\"Enter b \"))\n",
    "print(a+b)\n",
    "print(a-b)\n",
    "print(a*b)"
   ]
  },
  {
   "cell_type": "markdown",
   "metadata": {},
   "source": [
    "Task\n",
    "Read two integers and print two lines. The first line should contain integer division,  // . The second line should contain float division,  / .\n",
    "\n",
    "You don't need to perform any rounding or formatting operations.\n",
    "\n",
    "Input Format\n",
    "\n",
    "The first line contains the first integer, . The second line contains the second integer, .\n",
    "\n",
    "Output Format\n",
    "\n",
    "Print the two lines as described above.\n",
    "\n",
    "Sample Input \n",
    "\n",
    "4\n",
    "3\n",
    "\n",
    "Sample Output \n",
    "\n",
    "1\n",
    "1.33333333333"
   ]
  },
  {
   "cell_type": "code",
   "execution_count": 2,
   "metadata": {},
   "outputs": [
    {
     "name": "stdout",
     "output_type": "stream",
     "text": [
      "4\n",
      "3\n",
      "1\n",
      "1.3333333333333333\n"
     ]
    }
   ],
   "source": [
    "a = int(input())\n",
    "b = int(input())\n",
    "print(a//b)\n",
    "print(a/b)"
   ]
  },
  {
   "cell_type": "code",
   "execution_count": null,
   "metadata": {},
   "outputs": [],
   "source": []
  }
 ],
 "metadata": {
  "kernelspec": {
   "display_name": "Python 3",
   "language": "python",
   "name": "python3"
  },
  "language_info": {
   "codemirror_mode": {
    "name": "ipython",
    "version": 3
   },
   "file_extension": ".py",
   "mimetype": "text/x-python",
   "name": "python",
   "nbconvert_exporter": "python",
   "pygments_lexer": "ipython3",
   "version": "3.7.4"
  }
 },
 "nbformat": 4,
 "nbformat_minor": 2
}
